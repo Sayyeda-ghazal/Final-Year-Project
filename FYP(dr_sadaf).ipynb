{
  "cells": [
    {
      "cell_type": "code",
      "execution_count": 1,
      "metadata": {
        "id": "V6pVnZdC7atF"
      },
      "outputs": [
        {
          "name": "stderr",
          "output_type": "stream",
          "text": [
            "C:\\Users\\C A I S T\\AppData\\Local\\Temp\\ipykernel_16436\\4258319431.py:1: DeprecationWarning: \n",
            "Pyarrow will become a required dependency of pandas in the next major release of pandas (pandas 3.0),\n",
            "(to allow more performant data types, such as the Arrow string type, and better interoperability with other libraries)\n",
            "but was not found to be installed on your system.\n",
            "If this would cause problems for you,\n",
            "please provide us feedback at https://github.com/pandas-dev/pandas/issues/54466\n",
            "        \n",
            "  import pandas as pd\n"
          ]
        }
      ],
      "source": [
        "import pandas as pd\n",
        "import numpy as np\n",
        "import matplotlib.pyplot as plt\n",
        "import seaborn as sns\n",
        "\n",
        "plt.style.use('ggplot')\n",
        "\n",
        "import nltk"
      ]
    },
    {
      "cell_type": "code",
      "execution_count": 2,
      "metadata": {
        "colab": {
          "base_uri": "https://localhost:8080/"
        },
        "id": "YYWNfVej7l9D",
        "outputId": "c25ecfaf-980a-4b06-d2e8-6dc8d8cc466b"
      },
      "outputs": [
        {
          "name": "stdout",
          "output_type": "stream",
          "text": [
            "(701787, 5)\n",
            "(701787, 5)\n"
          ]
        }
      ],
      "source": [
        "df = pd.read_csv(r'\\Users\\C A I S T\\Downloads\\project\\mental_disorders_reddit.csv')\n",
        "print(df.shape)\n",
        "df.head(500)\n",
        "print(df.shape)"
      ]
    },
    {
      "cell_type": "code",
      "execution_count": 3,
      "metadata": {
        "colab": {
          "base_uri": "https://localhost:8080/"
        },
        "id": "stXmQOGEpZ06",
        "outputId": "c41e9a2f-2efd-45d0-e2e8-3c5acc5e2d2c"
      },
      "outputs": [
        {
          "name": "stdout",
          "output_type": "stream",
          "text": [
            "<class 'pandas.core.frame.DataFrame'>\n",
            "RangeIndex: 701787 entries, 0 to 701786\n",
            "Data columns (total 5 columns):\n",
            " #   Column       Non-Null Count   Dtype \n",
            "---  ------       --------------   ----- \n",
            " 0   title        701741 non-null  object\n",
            " 1   selftext     668096 non-null  object\n",
            " 2   created_utc  701787 non-null  int64 \n",
            " 3   over_18      701787 non-null  bool  \n",
            " 4   subreddit    701787 non-null  object\n",
            "dtypes: bool(1), int64(1), object(3)\n",
            "memory usage: 22.1+ MB\n"
          ]
        }
      ],
      "source": [
        "df.info()"
      ]
    },
    {
      "cell_type": "code",
      "execution_count": 4,
      "metadata": {
        "id": "cNRTeTBEpFg5"
      },
      "outputs": [],
      "source": [
        "# df.corr()"
      ]
    },
    {
      "cell_type": "code",
      "execution_count": 6,
      "metadata": {
        "colab": {
          "base_uri": "https://localhost:8080/"
        },
        "id": "UGFW4icf75ev",
        "outputId": "7d1aed84-3e81-4df2-ff06-3c4d162b3728"
      },
      "outputs": [
        {
          "name": "stdout",
          "output_type": "stream",
          "text": [
            "Index(['title', 'selftext', 'created_utc', 'over_18', 'subreddit'], dtype='object')\n"
          ]
        }
      ],
      "source": [
        "df.head()\n",
        "print(df.columns)"
      ]
    },
    {
      "cell_type": "code",
      "execution_count": null,
      "metadata": {
        "colab": {
          "base_uri": "https://localhost:8080/"
        },
        "id": "jewhzjdnnMzS",
        "outputId": "0c94fcb7-6b54-4b50-d94a-0fdf5d120a62"
      },
      "outputs": [
        {
          "data": {
            "text/plain": [
              "0                   BPD\n",
              "1                   BPD\n",
              "2                   BPD\n",
              "3                   BPD\n",
              "4                   BPD\n",
              "              ...      \n",
              "701782    mentalillness\n",
              "701783    mentalillness\n",
              "701784    mentalillness\n",
              "701785    mentalillness\n",
              "701786    mentalillness\n",
              "Name: subreddit, Length: 701787, dtype: object"
            ]
          },
          "execution_count": 6,
          "metadata": {},
          "output_type": "execute_result"
        }
      ],
      "source": [
        "df['subreddit']"
      ]
    },
    {
      "cell_type": "code",
      "execution_count": 7,
      "metadata": {
        "colab": {
          "base_uri": "https://localhost:8080/"
        },
        "id": "WZ5O9mv8oA4s",
        "outputId": "6261de41-bdb9-4ec7-aae0-761ed734c2ac"
      },
      "outputs": [
        {
          "data": {
            "text/plain": [
              "subreddit\n",
              "BPD              241116\n",
              "Anxiety          173990\n",
              "depression       156972\n",
              "mentalillness     53232\n",
              "bipolar           51112\n",
              "schizophrenia     25365\n",
              "Name: count, dtype: int64"
            ]
          },
          "execution_count": 7,
          "metadata": {},
          "output_type": "execute_result"
        }
      ],
      "source": [
        "df['subreddit'].value_counts()"
      ]
    },
    {
      "cell_type": "code",
      "execution_count": null,
      "metadata": {
        "id": "Ze65UIiQoYzh"
      },
      "outputs": [],
      "source": [
        "# df_Corr = df.corr()"
      ]
    },
    {
      "cell_type": "code",
      "execution_count": null,
      "metadata": {
        "colab": {
          "base_uri": "https://localhost:8080/",
          "height": 406
        },
        "id": "gfdpDoIyk-sK",
        "outputId": "c5cd70a3-cb05-4383-eef5-1ceaad3b3dba"
      },
      "outputs": [
        {
          "data": {
            "image/png": "[encoded data removed]",
            "text/plain": [
              "<Figure size 640x480 with 1 Axes>"
            ]
          },
          "metadata": {},
          "output_type": "display_data"
        }
      ],
      "source": [
        "# df[\"subreddit\"].value_counts().plot.bar()\n",
        "df[\"subreddit\"].value_counts().plot.pie()\n",
        "plt.show()"
      ]
    },
    {
      "cell_type": "code",
      "execution_count": null,
      "metadata": {
        "colab": {
          "base_uri": "https://localhost:8080/"
        },
        "id": "NA9KTHsmhjtl",
        "outputId": "f6b891d2-f5ff-489b-95bb-173e74e5d801"
      },
      "outputs": [
        {
          "name": "stdout",
          "output_type": "stream",
          "text": [
            "subreddit\n",
            "BPD              241116\n",
            "Anxiety          173990\n",
            "depression       156972\n",
            "mentalillness     53232\n",
            "bipolar           51112\n",
            "schizophrenia     25365\n",
            "Name: count, dtype: int64\n"
          ]
        }
      ],
      "source": [
        "unique_values = df['subreddit'].value_counts()\n",
        "print(unique_values)"
      ]
    },
    {
      "cell_type": "code",
      "execution_count": null,
      "metadata": {
        "colab": {
          "base_uri": "https://localhost:8080/"
        },
        "id": "Qtw3S5ccm5l7",
        "outputId": "0bb0b7eb-c29d-4d2c-d8be-854c6923965f"
      },
      "outputs": [
        {
          "data": {
            "text/plain": [
              "Index(['title', 'selftext', 'created_utc', 'over_18', 'subreddit'], dtype='object')"
            ]
          },
          "execution_count": 11,
          "metadata": {},
          "output_type": "execute_result"
        }
      ],
      "source": [
        "df.columns"
      ]
    },
    {
      "cell_type": "code",
      "execution_count": 8,
      "metadata": {
        "colab": {
          "base_uri": "https://localhost:8080/",
          "height": 434
        },
        "id": "BhfknNcp8Fb3",
        "outputId": "18b1e26b-7ceb-489b-a460-f7e1dd2f6b70"
      },
      "outputs": [
        {
          "data": {
            "image/png": "[encoded data removed]",
            "text/plain": [
              "<Figure size 1000x500 with 1 Axes>"
            ]
          },
          "metadata": {},
          "output_type": "display_data"
        }
      ],
      "source": [
        "ax = df['subreddit'].value_counts().sort_index().plot(kind='bar',\n",
        "          title='Count of BPD',\n",
        "          figsize=(10, 5))\n",
        "ax.set_xlabel('BPD Patients')\n",
        "plt.show()"
      ]
    },
    {
      "cell_type": "code",
      "execution_count": 10,
      "metadata": {
        "colab": {
          "base_uri": "https://localhost:8080/"
        },
        "id": "SFwUHbka8MSu",
        "outputId": "d250e24f-f38f-4e90-dd29-8251108bb410"
      },
      "outputs": [
        {
          "name": "stdout",
          "output_type": "stream",
          "text": [
            "DAE get mad when they see people living the lives they wish they were living? Like I get so jealous hearing that my younger sister is pregnant again. (Her current child isnt even one yet) And even though she cant care for either of them im jealous that she gets to experience it again. Like I want to have my own kid sooo bad. But it just seems like it'll never happen. So then i het depressed and start spiraling again. I know i cant control other peoples actions but i cant help it.\n"
          ]
        }
      ],
      "source": [
        "example = df['selftext'][50]\n",
        "print(example)"
      ]
    },
    {
      "cell_type": "code",
      "execution_count": 11,
      "metadata": {
        "colab": {
          "base_uri": "https://localhost:8080/"
        },
        "id": "xbpJJfdY8QZx",
        "outputId": "90295d05-e627-4fb4-f387-b75417d9b434"
      },
      "outputs": [
        {
          "name": "stderr",
          "output_type": "stream",
          "text": [
            "[nltk_data] Downloading package punkt to C:\\Users\\C A I S\n",
            "[nltk_data]     T\\AppData\\Roaming\\nltk_data...\n",
            "[nltk_data]   Package punkt is already up-to-date!\n"
          ]
        },
        {
          "data": {
            "text/plain": [
              "['DAE',\n",
              " 'get',\n",
              " 'mad',\n",
              " 'when',\n",
              " 'they',\n",
              " 'see',\n",
              " 'people',\n",
              " 'living',\n",
              " 'the',\n",
              " 'lives']"
            ]
          },
          "execution_count": 11,
          "metadata": {},
          "output_type": "execute_result"
        }
      ],
      "source": [
        "import nltk\n",
        "nltk.download('punkt')\n",
        "tokens = nltk.word_tokenize(example)\n",
        "tokens[:10]"
      ]
    },
    {
      "cell_type": "code",
      "execution_count": 12,
      "metadata": {
        "colab": {
          "base_uri": "https://localhost:8080/"
        },
        "id": "7Gb74JlI8TTW",
        "outputId": "8afe004b-5ed6-4064-b30b-19a4aba732f6"
      },
      "outputs": [
        {
          "name": "stderr",
          "output_type": "stream",
          "text": [
            "[nltk_data] Downloading package averaged_perceptron_tagger to\n",
            "[nltk_data]     C:\\Users\\C A I S T\\AppData\\Roaming\\nltk_data...\n",
            "[nltk_data]   Unzipping taggers\\averaged_perceptron_tagger.zip.\n"
          ]
        },
        {
          "data": {
            "text/plain": [
              "[('DAE', 'NNP'),\n",
              " ('get', 'VBP'),\n",
              " ('mad', 'JJ'),\n",
              " ('when', 'WRB'),\n",
              " ('they', 'PRP'),\n",
              " ('see', 'VBP'),\n",
              " ('people', 'NNS'),\n",
              " ('living', 'VBG'),\n",
              " ('the', 'DT'),\n",
              " ('lives', 'NNS')]"
            ]
          },
          "execution_count": 12,
          "metadata": {},
          "output_type": "execute_result"
        }
      ],
      "source": [
        "import nltk\n",
        "nltk.download('averaged_perceptron_tagger')\n",
        "tagged = nltk.pos_tag(tokens)\n",
        "tagged[:10]"
      ]
    },
    {
      "cell_type": "code",
      "execution_count": 13,
      "metadata": {
        "colab": {
          "base_uri": "https://localhost:8080/"
        },
        "id": "vYDJaqtS8bF3",
        "outputId": "53a35d53-2df5-4bb1-fe9d-879da23dac91"
      },
      "outputs": [
        {
          "name": "stderr",
          "output_type": "stream",
          "text": [
            "[nltk_data] Downloading package words to C:\\Users\\C A I S\n",
            "[nltk_data]     T\\AppData\\Roaming\\nltk_data...\n",
            "[nltk_data]   Unzipping corpora\\words.zip.\n",
            "[nltk_data] Downloading package maxent_ne_chunker to C:\\Users\\C A I S\n",
            "[nltk_data]     T\\AppData\\Roaming\\nltk_data...\n"
          ]
        },
        {
          "name": "stdout",
          "output_type": "stream",
          "text": [
            "(S\n",
            "  DAE/NNP\n",
            "  get/VBP\n",
            "  mad/JJ\n",
            "  when/WRB\n",
            "  they/PRP\n",
            "  see/VBP\n",
            "  people/NNS\n",
            "  living/VBG\n",
            "  the/DT\n",
            "  lives/NNS\n",
            "  they/PRP\n",
            "  wish/VBP\n",
            "  they/PRP\n",
            "  were/VBD\n",
            "  living/VBG\n",
            "  ?/.\n",
            "  Like/IN\n",
            "  I/PRP\n",
            "  get/VBP\n",
            "  so/RB\n",
            "  jealous/JJ\n",
            "  hearing/NN\n",
            "  that/IN\n",
            "  my/PRP$\n",
            "  younger/JJR\n",
            "  sister/NN\n",
            "  is/VBZ\n",
            "  pregnant/JJ\n",
            "  again/RB\n",
            "  ./.\n",
            "  (/(\n",
            "  Her/PRP$\n",
            "  current/JJ\n",
            "  child/NN\n",
            "  isnt/NN\n",
            "  even/RB\n",
            "  one/CD\n",
            "  yet/RB\n",
            "  )/)\n",
            "  And/CC\n",
            "  even/RB\n",
            "  though/IN\n",
            "  she/PRP\n",
            "  cant/VBZ\n",
            "  care/NN\n",
            "  for/IN\n",
            "  either/DT\n",
            "  of/IN\n",
            "  them/PRP\n",
            "  im/VBP\n",
            "  jealous/JJ\n",
            "  that/IN\n",
            "  she/PRP\n",
            "  gets/VBZ\n",
            "  to/TO\n",
            "  experience/VB\n",
            "  it/PRP\n",
            "  again/RB\n",
            "  ./.\n",
            "  Like/IN\n",
            "  I/PRP\n",
            "  want/VBP\n",
            "  to/TO\n",
            "  have/VB\n",
            "  my/PRP$\n",
            "  own/JJ\n",
            "  kid/NN\n",
            "  sooo/NN\n",
            "  bad/JJ\n",
            "  ./.\n",
            "  But/CC\n",
            "  it/PRP\n",
            "  just/RB\n",
            "  seems/VBZ\n",
            "  like/IN\n",
            "  it/PRP\n",
            "  'll/MD\n",
            "  never/RB\n",
            "  happen/VB\n",
            "  ./.\n",
            "  So/IN\n",
            "  then/RB\n",
            "  i/VB\n",
            "  het/NN\n",
            "  depressed/VBN\n",
            "  and/CC\n",
            "  start/VB\n",
            "  spiraling/VBG\n",
            "  again/RB\n",
            "  ./.\n",
            "  I/PRP\n",
            "  know/VBP\n",
            "  i/JJ\n",
            "  cant/VBP\n",
            "  control/NN\n",
            "  other/JJ\n",
            "  peoples/NNS\n",
            "  actions/NNS\n",
            "  but/CC\n",
            "  i/NN\n",
            "  cant/VBP\n",
            "  help/NN\n",
            "  it/PRP\n",
            "  ./.)\n",
            "(S\n",
            "  DAE/NNP\n",
            "  get/VBP\n",
            "  mad/JJ\n",
            "  when/WRB\n",
            "  they/PRP\n",
            "  see/VBP\n",
            "  people/NNS\n",
            "  living/VBG\n",
            "  the/DT\n",
            "  lives/NNS\n",
            "  they/PRP\n",
            "  wish/VBP\n",
            "  they/PRP\n",
            "  were/VBD\n",
            "  living/VBG\n",
            "  ?/.\n",
            "  Like/IN\n",
            "  I/PRP\n",
            "  get/VBP\n",
            "  so/RB\n",
            "  jealous/JJ\n",
            "  hearing/NN\n",
            "  that/IN\n",
            "  my/PRP$\n",
            "  younger/JJR\n",
            "  sister/NN\n",
            "  is/VBZ\n",
            "  pregnant/JJ\n",
            "  again/RB\n",
            "  ./.\n",
            "  (/(\n",
            "  Her/PRP$\n",
            "  current/JJ\n",
            "  child/NN\n",
            "  isnt/NN\n",
            "  even/RB\n",
            "  one/CD\n",
            "  yet/RB\n",
            "  )/)\n",
            "  And/CC\n",
            "  even/RB\n",
            "  though/IN\n",
            "  she/PRP\n",
            "  cant/VBZ\n",
            "  care/NN\n",
            "  for/IN\n",
            "  either/DT\n",
            "  of/IN\n",
            "  them/PRP\n",
            "  im/VBP\n",
            "  jealous/JJ\n",
            "  that/IN\n",
            "  she/PRP\n",
            "  gets/VBZ\n",
            "  to/TO\n",
            "  experience/VB\n",
            "  it/PRP\n",
            "  again/RB\n",
            "  ./.\n",
            "  Like/IN\n",
            "  I/PRP\n",
            "  want/VBP\n",
            "  to/TO\n",
            "  have/VB\n",
            "  my/PRP$\n",
            "  own/JJ\n",
            "  kid/NN\n",
            "  sooo/NN\n",
            "  bad/JJ\n",
            "  ./.\n",
            "  But/CC\n",
            "  it/PRP\n",
            "  just/RB\n",
            "  seems/VBZ\n",
            "  like/IN\n",
            "  it/PRP\n",
            "  'll/MD\n",
            "  never/RB\n",
            "  happen/VB\n",
            "  ./.\n",
            "  So/IN\n",
            "  then/RB\n",
            "  i/VB\n",
            "  het/NN\n",
            "  depressed/VBN\n",
            "  and/CC\n",
            "  start/VB\n",
            "  spiraling/VBG\n",
            "  again/RB\n",
            "  ./.\n",
            "  I/PRP\n",
            "  know/VBP\n",
            "  i/JJ\n",
            "  cant/VBP\n",
            "  control/NN\n",
            "  other/JJ\n",
            "  peoples/NNS\n",
            "  actions/NNS\n",
            "  but/CC\n",
            "  i/NN\n",
            "  cant/VBP\n",
            "  help/NN\n",
            "  it/PRP\n",
            "  ./.)\n"
          ]
        },
        {
          "name": "stderr",
          "output_type": "stream",
          "text": [
            "[nltk_data]   Unzipping chunkers\\maxent_ne_chunker.zip.\n"
          ]
        }
      ],
      "source": [
        "nltk.download('words')\n",
        "nltk.download('maxent_ne_chunker')\n",
        "entities = nltk.chunk.ne_chunk(tagged)\n",
        "entities.pprint()\n",
        "# entities.draw()\n",
        "print(str(entities))"
      ]
    },
    {
      "cell_type": "code",
      "execution_count": 14,
      "metadata": {
        "colab": {
          "base_uri": "https://localhost:8080/"
        },
        "id": "_keD2i1SI6-p",
        "outputId": "c6fd54eb-6c75-4350-8224-790c0fde2ffc"
      },
      "outputs": [
        {
          "name": "stderr",
          "output_type": "stream",
          "text": [
            "[nltk_data] Downloading package vader_lexicon to C:\\Users\\C A I S\n",
            "[nltk_data]     T\\AppData\\Roaming\\nltk_data...\n"
          ]
        },
        {
          "name": "stdout",
          "output_type": "stream",
          "text": [
            "{'neg': 0.451, 'neu': 0.549, 'pos': 0.0, 'compound': -0.6249}\n"
          ]
        }
      ],
      "source": [
        "from nltk.sentiment.vader import SentimentIntensityAnalyzer\n",
        "\n",
        "# Download the VADER lexicon\n",
        "import nltk\n",
        "nltk.download('vader_lexicon')\n",
        "\n",
        "# Initialize SentimentIntensityAnalyzer\n",
        "sia = SentimentIntensityAnalyzer()\n",
        "\n",
        "# Perform sentiment analysis\n",
        "scores = sia.polarity_scores('This is the worst thing ever.')\n",
        "print(scores)\n"
      ]
    },
    {
      "cell_type": "code",
      "execution_count": 15,
      "metadata": {
        "colab": {
          "base_uri": "https://localhost:8080/"
        },
        "id": "n41HuLhUJCTm",
        "outputId": "fb7a30fa-319d-4bc6-b0e3-4d297c54c57d"
      },
      "outputs": [
        {
          "data": {
            "text/plain": [
              "{'neg': 0.0, 'neu': 0.318, 'pos': 0.682, 'compound': 0.6468}"
            ]
          },
          "execution_count": 15,
          "metadata": {},
          "output_type": "execute_result"
        }
      ],
      "source": [
        "sia.polarity_scores('I am so happy!')"
      ]
    },
    {
      "cell_type": "code",
      "execution_count": null,
      "metadata": {
        "colab": {
          "base_uri": "https://localhost:8080/"
        },
        "id": "h7vyXKSGJFbV",
        "outputId": "59a2f078-3905-43b4-9db4-f3a3cec319b2"
      },
      "outputs": [
        {
          "data": {
            "text/plain": [
              "{'neg': 0.451, 'neu': 0.549, 'pos': 0.0, 'compound': -0.6249}"
            ]
          },
          "execution_count": 19,
          "metadata": {},
          "output_type": "execute_result"
        }
      ],
      "source": [
        "sia.polarity_scores('This is the worst thing ever.')"
      ]
    },
    {
      "cell_type": "code",
      "execution_count": null,
      "metadata": {
        "colab": {
          "base_uri": "https://localhost:8080/"
        },
        "id": "GbcrZtfnJKDE",
        "outputId": "7dac1a2a-d72f-43d8-c788-e9ccfac9355f"
      },
      "outputs": [
        {
          "data": {
            "text/plain": [
              "{'neg': 0.175, 'neu': 0.731, 'pos': 0.094, 'compound': -0.8569}"
            ]
          },
          "execution_count": 20,
          "metadata": {},
          "output_type": "execute_result"
        }
      ],
      "source": [
        "sia.polarity_scores(example)"
      ]
    },
    {
      "cell_type": "code",
      "execution_count": null,
      "metadata": {
        "colab": {
          "base_uri": "https://localhost:8080/"
        },
        "id": "RWQepNHVJMSV",
        "outputId": "d107c0d9-3cff-4bf6-f6f3-c6573b58c770"
      },
      "outputs": [
        {
          "name": "stderr",
          "output_type": "stream",
          "text": [
            "100%|██████████| 701787/701787 [20:51<00:00, 560.69it/s]\n"
          ]
        }
      ],
      "source": [
        "from tqdm import tqdm\n",
        "res = {}\n",
        "for i, row in tqdm(df.iterrows(), total=len(df)):\n",
        "    text = row['selftext']\n",
        "    if isinstance(text, str):\n",
        "        res[i] = sia.polarity_scores(text)\n",
        "    else:\n",
        "        res[i] = None\n"
      ]
    },
    {
      "cell_type": "code",
      "execution_count": 17,
      "metadata": {
        "id": "p0yszDWGJOt2"
      },
      "outputs": [],
      "source": [
        "vaders = pd.DataFrame(df)\n",
        "vaders['title'] = vaders['title'].astype(str)\n",
        "df['selftext'] = df['selftext'].astype(str)\n",
        "merged_df = vaders.merge(df, left_on='title', right_on='selftext', how='left')\n"
      ]
    },
    {
      "cell_type": "code",
      "execution_count": 18,
      "metadata": {
        "colab": {
          "base_uri": "https://localhost:8080/",
          "height": 275
        },
        "id": "LoxVELKMJUBo",
        "outputId": "e025e7cd-4834-492a-962c-4f2fed4064b8"
      },
      "outputs": [
        {
          "data": {
            "text/html": [
              "<div>\n",
              "<style scoped>\n",
              "    .dataframe tbody tr th:only-of-type {\n",
              "        vertical-align: middle;\n",
              "    }\n",
              "\n",
              "    .dataframe tbody tr th {\n",
              "        vertical-align: top;\n",
              "    }\n",
              "\n",
              "    .dataframe thead th {\n",
              "        text-align: right;\n",
              "    }\n",
              "</style>\n",
              "<table border=\"1\" class=\"dataframe\">\n",
              "  <thead>\n",
              "    <tr style=\"text-align: right;\">\n",
              "      <th></th>\n",
              "      <th>title</th>\n",
              "      <th>selftext</th>\n",
              "      <th>created_utc</th>\n",
              "      <th>over_18</th>\n",
              "      <th>subreddit</th>\n",
              "    </tr>\n",
              "  </thead>\n",
              "  <tbody>\n",
              "    <tr>\n",
              "      <th>0</th>\n",
              "      <td>Life is so pointless without others</td>\n",
              "      <td>Does anyone else think the most important part...</td>\n",
              "      <td>1650356960</td>\n",
              "      <td>False</td>\n",
              "      <td>BPD</td>\n",
              "    </tr>\n",
              "    <tr>\n",
              "      <th>1</th>\n",
              "      <td>Cold rage?</td>\n",
              "      <td>Hello fellow friends 😄\\n\\nI'm on the BPD spect...</td>\n",
              "      <td>1650356660</td>\n",
              "      <td>False</td>\n",
              "      <td>BPD</td>\n",
              "    </tr>\n",
              "    <tr>\n",
              "      <th>2</th>\n",
              "      <td>I don’t know who I am</td>\n",
              "      <td>My [F20] bf [M20] told me today (after I said ...</td>\n",
              "      <td>1650355379</td>\n",
              "      <td>False</td>\n",
              "      <td>BPD</td>\n",
              "    </tr>\n",
              "    <tr>\n",
              "      <th>3</th>\n",
              "      <td>HELP! Opinions! Advice!</td>\n",
              "      <td>Okay, I’m about to open up about many things I...</td>\n",
              "      <td>1650353430</td>\n",
              "      <td>False</td>\n",
              "      <td>BPD</td>\n",
              "    </tr>\n",
              "    <tr>\n",
              "      <th>4</th>\n",
              "      <td>help</td>\n",
              "      <td>[removed]</td>\n",
              "      <td>1650350907</td>\n",
              "      <td>False</td>\n",
              "      <td>BPD</td>\n",
              "    </tr>\n",
              "  </tbody>\n",
              "</table>\n",
              "</div>"
            ],
            "text/plain": [
              "                                 title  \\\n",
              "0  Life is so pointless without others   \n",
              "1                           Cold rage?   \n",
              "2                I don’t know who I am   \n",
              "3              HELP! Opinions! Advice!   \n",
              "4                                 help   \n",
              "\n",
              "                                            selftext  created_utc  over_18  \\\n",
              "0  Does anyone else think the most important part...   1650356960    False   \n",
              "1  Hello fellow friends 😄\\n\\nI'm on the BPD spect...   1650356660    False   \n",
              "2  My [F20] bf [M20] told me today (after I said ...   1650355379    False   \n",
              "3  Okay, I’m about to open up about many things I...   1650353430    False   \n",
              "4                                          [removed]   1650350907    False   \n",
              "\n",
              "  subreddit  \n",
              "0       BPD  \n",
              "1       BPD  \n",
              "2       BPD  \n",
              "3       BPD  \n",
              "4       BPD  "
            ]
          },
          "execution_count": 18,
          "metadata": {},
          "output_type": "execute_result"
        }
      ],
      "source": [
        "vaders.head()"
      ]
    },
    {
      "cell_type": "code",
      "execution_count": 30,
      "metadata": {
        "id": "5Kjqxx9Hxm75"
      },
      "outputs": [
        {
          "name": "stdout",
          "output_type": "stream",
          "text": [
            "(701787, 5)\n",
            "<class 'pandas.core.frame.DataFrame'>\n",
            "RangeIndex: 701787 entries, 0 to 701786\n",
            "Data columns (total 5 columns):\n",
            " #   Column       Non-Null Count   Dtype \n",
            "---  ------       --------------   ----- \n",
            " 0   title        701741 non-null  object\n",
            " 1   selftext     668096 non-null  object\n",
            " 2   created_utc  701787 non-null  int64 \n",
            " 3   over_18      701787 non-null  bool  \n",
            " 4   subreddit    701787 non-null  object\n",
            "dtypes: bool(1), int64(1), object(3)\n",
            "memory usage: 22.1+ MB\n",
            "None\n",
            "subreddit\n",
            "BPD              241116\n",
            "Anxiety          173990\n",
            "depression       156972\n",
            "mentalillness     53232\n",
            "bipolar           51112\n",
            "schizophrenia     25365\n",
            "Name: count, dtype: int64\n"
          ]
        },
        {
          "name": "stderr",
          "output_type": "stream",
          "text": [
            "c:\\Users\\C A I S T\\AppData\\Local\\Programs\\Python\\Python312\\Lib\\site-packages\\keras\\src\\layers\\core\\dense.py:87: UserWarning: Do not pass an `input_shape`/`input_dim` argument to a layer. When using Sequential models, prefer using an `Input(shape)` object as the first layer in the model instead.\n",
            "  super().__init__(activity_regularizer=activity_regularizer, **kwargs)\n"
          ]
        },
        {
          "name": "stdout",
          "output_type": "stream",
          "text": [
            "Epoch 1/10\n",
            "\u001b[1m17545/17545\u001b[0m \u001b[32m━━━━━━━━━━━━━━━━━━━━\u001b[0m\u001b[37m\u001b[0m \u001b[1m13s\u001b[0m 706us/step - accuracy: 0.6300 - loss: 1.0066 - val_accuracy: 0.6584 - val_loss: 0.9197\n",
            "Epoch 2/10\n",
            "\u001b[1m17545/17545\u001b[0m \u001b[32m━━━━━━━━━━━━━━━━━━━━\u001b[0m\u001b[37m\u001b[0m \u001b[1m12s\u001b[0m 685us/step - accuracy: 0.6641 - loss: 0.9081 - val_accuracy: 0.6637 - val_loss: 0.9079\n",
            "Epoch 3/10\n",
            "\u001b[1m17545/17545\u001b[0m \u001b[32m━━━━━━━━━━━━━━━━━━━━\u001b[0m\u001b[37m\u001b[0m \u001b[1m12s\u001b[0m 676us/step - accuracy: 0.6716 - loss: 0.8902 - val_accuracy: 0.6656 - val_loss: 0.9061\n",
            "Epoch 4/10\n",
            "\u001b[1m17545/17545\u001b[0m \u001b[32m━━━━━━━━━━━━━━━━━━━━\u001b[0m\u001b[37m\u001b[0m \u001b[1m12s\u001b[0m 669us/step - accuracy: 0.6761 - loss: 0.8793 - val_accuracy: 0.6653 - val_loss: 0.9036\n",
            "Epoch 5/10\n",
            "\u001b[1m17545/17545\u001b[0m \u001b[32m━━━━━━━━━━━━━━━━━━━━\u001b[0m\u001b[37m\u001b[0m \u001b[1m12s\u001b[0m 676us/step - accuracy: 0.6809 - loss: 0.8680 - val_accuracy: 0.6643 - val_loss: 0.9070\n",
            "Epoch 6/10\n",
            "\u001b[1m17545/17545\u001b[0m \u001b[32m━━━━━━━━━━━━━━━━━━━━\u001b[0m\u001b[37m\u001b[0m \u001b[1m12s\u001b[0m 674us/step - accuracy: 0.6821 - loss: 0.8623 - val_accuracy: 0.6638 - val_loss: 0.9078\n",
            "Epoch 7/10\n",
            "\u001b[1m17545/17545\u001b[0m \u001b[32m━━━━━━━━━━━━━━━━━━━━\u001b[0m\u001b[37m\u001b[0m \u001b[1m12s\u001b[0m 670us/step - accuracy: 0.6846 - loss: 0.8559 - val_accuracy: 0.6634 - val_loss: 0.9114\n",
            "Epoch 8/10\n",
            "\u001b[1m17545/17545\u001b[0m \u001b[32m━━━━━━━━━━━━━━━━━━━━\u001b[0m\u001b[37m\u001b[0m \u001b[1m12s\u001b[0m 667us/step - accuracy: 0.6865 - loss: 0.8488 - val_accuracy: 0.6633 - val_loss: 0.9129\n",
            "Epoch 9/10\n",
            "\u001b[1m17545/17545\u001b[0m \u001b[32m━━━━━━━━━━━━━━━━━━━━\u001b[0m\u001b[37m\u001b[0m \u001b[1m12s\u001b[0m 670us/step - accuracy: 0.6894 - loss: 0.8420 - val_accuracy: 0.6624 - val_loss: 0.9140\n",
            "Epoch 10/10\n",
            "\u001b[1m17545/17545\u001b[0m \u001b[32m━━━━━━━━━━━━━━━━━━━━\u001b[0m\u001b[37m\u001b[0m \u001b[1m12s\u001b[0m 672us/step - accuracy: 0.6906 - loss: 0.8387 - val_accuracy: 0.6619 - val_loss: 0.9185\n"
          ]
        },
        {
          "name": "stderr",
          "output_type": "stream",
          "text": [
            "WARNING:absl:You are saving your model as an HDF5 file via `model.save()` or `keras.saving.save_model(model)`. This file format is considered legacy. We recommend using instead the native Keras format, e.g. `model.save('my_model.keras')` or `keras.saving.save_model(model, 'my_model.keras')`. \n"
          ]
        },
        {
          "data": {
            "text/plain": [
              "['/content/drive/MyDrive/tfidf_vectorizer.pkl']"
            ]
          },
          "execution_count": 30,
          "metadata": {},
          "output_type": "execute_result"
        }
      ],
      "source": [
        "import pandas as pd\n",
        "import numpy as np\n",
        "from sklearn.model_selection import train_test_split\n",
        "from sklearn.feature_extraction.text import TfidfVectorizer\n",
        "from sklearn.preprocessing import LabelEncoder\n",
        "import tensorflow as tf\n",
        "from keras.models import Sequential\n",
        "from keras.layers import Dense\n",
        "from keras.models import save_model\n",
        "from keras.optimizers import Adam\n",
        "\n",
        "# Load your dataset from a CSV file\n",
        "df = pd.read_csv(r'\\Users\\C A I S T\\Downloads\\project\\mental_disorders_reddit.csv')\n",
        "\n",
        "# Display basic information about the dataset\n",
        "print(df.shape)\n",
        "print(df.info())\n",
        "print(df['subreddit'].value_counts())\n",
        "\n",
        "# Extract features and labels\n",
        "X = df['selftext'].astype(str)  # Text data\n",
        "y = df['subreddit']  # Labels\n",
        "\n",
        "# Encode string labels to numeric labels\n",
        "label_encoder = LabelEncoder()\n",
        "y_encoded = label_encoder.fit_transform(y)\n",
        "\n",
        "# Convert labels to categorical one-hot encoding\n",
        "num_classes = len(np.unique(y_encoded))\n",
        "y_one_hot = tf.keras.utils.to_categorical(y_encoded, num_classes)\n",
        "\n",
        "# Split the data into training and testing sets\n",
        "X_train, X_test, y_train, y_test = train_test_split(X, y_one_hot, test_size=0.2, random_state=42)\n",
        "\n",
        "# Convert text data to TF-IDF features\n",
        "vectorizer = TfidfVectorizer(max_features=1000)  # Adjust max_features as needed\n",
        "X_train_tfidf = vectorizer.fit_transform(X_train).toarray()\n",
        "X_test_tfidf = vectorizer.transform(X_test).toarray()\n",
        "\n",
        "# Define your model\n",
        "model = Sequential()\n",
        "model.add(Dense(64, activation='relu', input_dim=X_train_tfidf.shape[1]))  # Use the number of TF-IDF features\n",
        "model.add(Dense(num_classes, activation='softmax'))\n",
        "\n",
        "# Compile the model\n",
        "model.compile(optimizer=Adam(),\n",
        "              loss='categorical_crossentropy',\n",
        "              metrics=['accuracy'])\n",
        "\n",
        "# Train the model\n",
        "model.fit(X_train_tfidf, y_train, epochs=10, batch_size=32, validation_data=(X_test_tfidf, y_test))\n",
        "\n",
        "# Save the model\n",
        "save_model(model, 'C:\\\\Users\\\\C A I S T\\\\Downloads\\\\project\\\\BPD_Sentinal.h5')\n",
        "\n",
        "\n",
        "# Optionally, save the label encoder and TF-IDF vectorizer for later use\n",
        "import joblib\n",
        "joblib.dump(label_encoder, '/content/drive/MyDrive/label_encoder.pkl')\n",
        "joblib.dump(vectorizer, '/content/drive/MyDrive/tfidf_vectorizer.pkl')\n"
      ]
    },
    {
      "cell_type": "code",
      "execution_count": null,
      "metadata": {
        "colab": {
          "base_uri": "https://localhost:8080/"
        },
        "id": "j1mTda4zxO6y",
        "outputId": "926e78e8-188e-42bf-9be3-3d695836ccb7"
      },
      "outputs": [
        {
          "name": "stderr",
          "output_type": "stream",
          "text": [
            "WARNING:absl:Skipping variable loading for optimizer 'Adam', because it has 9 variables whereas the saved optimizer has 1 variables. \n"
          ]
        }
      ],
      "source": [
        "from keras.models import load_model\n",
        "\n",
        "# Load the model\n",
        "model = load_model('BPD Sentinal.keras')"
      ]
    },
    {
      "cell_type": "code",
      "execution_count": null,
      "metadata": {
        "id": "GeytX3NmxUuM"
      },
      "outputs": [],
      "source": []
    }
  ],
  "metadata": {
    "accelerator": "GPU",
    "colab": {
      "gpuType": "T4",
      "provenance": []
    },
    "kernelspec": {
      "display_name": "Python 3",
      "name": "python3"
    },
    "language_info": {
      "codemirror_mode": {
        "name": "ipython",
        "version": 3
      },
      "file_extension": ".py",
      "mimetype": "text/x-python",
      "name": "python",
      "nbconvert_exporter": "python",
      "pygments_lexer": "ipython3",
      "version": "3.12.0"
    }
  },
  "nbformat": 4,
  "nbformat_minor": 0
}
